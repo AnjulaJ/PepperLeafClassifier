{
  "nbformat": 4,
  "nbformat_minor": 0,
  "metadata": {
    "colab": {
      "provenance": []
    },
    "kernelspec": {
      "name": "python3",
      "display_name": "Python 3"
    },
    "language_info": {
      "name": "python"
    }
  },
  "cells": [
    {
      "cell_type": "code",
      "source": [
        "import os\n",
        "import shutil\n",
        "import random\n",
        "from tensorflow.keras.applications import MobileNet\n",
        "from tensorflow.keras.models import Sequential\n",
        "from tensorflow.keras.layers import Dense, GlobalAveragePooling2D\n",
        "from tensorflow.keras.preprocessing.image import ImageDataGenerator"
      ],
      "metadata": {
        "id": "S7TvSkrifPi0"
      },
      "execution_count": null,
      "outputs": []
    },
    {
      "cell_type": "code",
      "source": [
        "# Step 2: Set Paths\n",
        "original_dataset_path = \"/content/drive/MyDrive/Black Pepper/dataset\"\n",
        "base_output_path = \"/content/drive/MyDrive/Black Pepper/out\"\n",
        "\n",
        "train_folder = os.path.join(base_output_path, \"train\")\n",
        "validation_folder = os.path.join(base_output_path, \"validation\")\n",
        "test_folder = os.path.join(base_output_path, \"test\")\n",
        "\n",
        "# Create output folders and classes\n",
        "for folder in [train_folder, validation_folder, test_folder]:\n",
        "    os.makedirs(folder, exist_ok=True)\n",
        "    for class_name in [\"healthy\", \"leaf_blight\", \"yellow_mottle_virus\"]:\n",
        "        os.makedirs(os.path.join(folder, class_name), exist_ok=True)\n",
        "\n",
        "# Copy Images to Train, Validation, and Test Folders\n",
        "def split_data(original_path, train_path, validation_path, test_path, split_ratio=(0.8, 0.1, 0.1)):\n",
        "    image_files = os.listdir(original_path)\n",
        "    random.shuffle(image_files)\n",
        "\n",
        "    total_images = len(image_files)\n",
        "    num_train = int(total_images * split_ratio[0])\n",
        "    num_validation = int(total_images * split_ratio[1])\n",
        "\n",
        "    for i, filename in enumerate(image_files):\n",
        "        src_path = os.path.join(original_path, filename)\n",
        "\n",
        "        if i < num_train:\n",
        "            dst_path = os.path.join(train_path, original_path.split('/')[-1], filename)\n",
        "        elif i < num_train + num_validation:\n",
        "            dst_path = os.path.join(validation_path, original_path.split('/')[-1], filename)\n",
        "        else:\n",
        "            dst_path = os.path.join(test_path, original_path.split('/')[-1], filename)\n",
        "\n",
        "        shutil.copy(src_path, dst_path)\n",
        "\n",
        "# Split data for each class\n",
        "for class_name in [\"healthy\", \"leaf_blight\", \"yellow_mottle_virus\"]:\n",
        "    split_data(os.path.join(original_dataset_path, class_name), train_folder, validation_folder, test_folder)\n"
      ],
      "metadata": {
        "id": "sVgUapCQiLIH"
      },
      "execution_count": null,
      "outputs": []
    },
    {
      "cell_type": "code",
      "source": [
        "def count_files_in_folders(folder_path):\n",
        "    # Initialize counters\n",
        "    total_files = 0\n",
        "\n",
        "    # Walk through the folder and its subfolders\n",
        "    for root, dirs, files in os.walk(folder_path):\n",
        "        # Count files in the current folder\n",
        "        files_count = len(files)\n",
        "        total_files += files_count\n",
        "\n",
        "        # Display the result for the current folder\n",
        "        print(f\"Folder: {root}, Files: {files_count}\")\n",
        "\n",
        "    # Display the total count\n",
        "    print(f\"\\nTotal Files in {folder_path}: {total_files}\")\n",
        "\n",
        "# the path to analyze\n",
        "folder_path = '/content/drive/MyDrive/Black Pepper/out'\n",
        "count_files_in_folders(folder_path)\n"
      ],
      "metadata": {
        "colab": {
          "base_uri": "https://localhost:8080/"
        },
        "id": "0aMAZ4VIkpMD",
        "outputId": "30ff6c56-5cd8-46a5-c26b-0c81a2a556f9"
      },
      "execution_count": null,
      "outputs": [
        {
          "output_type": "stream",
          "name": "stdout",
          "text": [
            "Folder: /content/drive/MyDrive/Black Pepper/out, Files: 0\n",
            "Folder: /content/drive/MyDrive/Black Pepper/out/train, Files: 0\n",
            "Folder: /content/drive/MyDrive/Black Pepper/out/train/healthy, Files: 218\n",
            "Folder: /content/drive/MyDrive/Black Pepper/out/train/leaf_blight, Files: 218\n",
            "Folder: /content/drive/MyDrive/Black Pepper/out/train/yellow_mottle_virus, Files: 218\n",
            "Folder: /content/drive/MyDrive/Black Pepper/out/validation, Files: 0\n",
            "Folder: /content/drive/MyDrive/Black Pepper/out/validation/healthy, Files: 27\n",
            "Folder: /content/drive/MyDrive/Black Pepper/out/validation/leaf_blight, Files: 27\n",
            "Folder: /content/drive/MyDrive/Black Pepper/out/validation/yellow_mottle_virus, Files: 27\n",
            "Folder: /content/drive/MyDrive/Black Pepper/out/test, Files: 0\n",
            "Folder: /content/drive/MyDrive/Black Pepper/out/test/healthy, Files: 28\n",
            "Folder: /content/drive/MyDrive/Black Pepper/out/test/leaf_blight, Files: 28\n",
            "Folder: /content/drive/MyDrive/Black Pepper/out/test/yellow_mottle_virus, Files: 28\n",
            "\n",
            "Total Files in /content/drive/MyDrive/Black Pepper/out: 819\n"
          ]
        }
      ]
    },
    {
      "cell_type": "code",
      "source": [
        "# Implement MobileNet Model\n",
        "def create_model(num_classes):\n",
        "    base_model = MobileNet(weights='imagenet', include_top=False, input_shape=(224, 224, 3))\n",
        "\n",
        "    model = Sequential()\n",
        "    model.add(base_model)\n",
        "    model.add(GlobalAveragePooling2D())\n",
        "    model.add(Dense(128, activation='relu'))\n",
        "    model.add(Dense(num_classes, activation='softmax'))\n",
        "\n",
        "    return model\n",
        "\n",
        "# Replace num_classes with the number of classes in your dataset\n",
        "num_classes = 3\n",
        "model = create_model(num_classes)\n",
        "\n",
        "# Compile and Train the Model\n",
        "train_datagen = ImageDataGenerator(rescale=1./255, shear_range=0.2, zoom_range=0.2, horizontal_flip=True)\n",
        "validation_datagen = ImageDataGenerator(rescale=1./255)\n",
        "\n",
        "train_generator = train_datagen.flow_from_directory(train_folder, target_size=(224, 224), batch_size=32, class_mode='categorical')\n",
        "validation_generator = validation_datagen.flow_from_directory(validation_folder, target_size=(224, 224), batch_size=32, class_mode='categorical')\n",
        "\n",
        "model.compile(optimizer='adam', loss='categorical_crossentropy', metrics=['accuracy'])\n",
        "\n",
        "# Train the model\n",
        "model.fit(train_generator, epochs=50, validation_data=validation_generator)\n",
        "\n",
        "# Save the Model\n",
        "model.save('/content/drive/MyDrive/Black Pepper/models/model.h5')"
      ],
      "metadata": {
        "colab": {
          "base_uri": "https://localhost:8080/"
        },
        "id": "r8riUDI7oxpn",
        "outputId": "64aafc4f-2a35-4971-e08f-4378280d4c28"
      },
      "execution_count": null,
      "outputs": [
        {
          "output_type": "stream",
          "name": "stdout",
          "text": [
            "Downloading data from https://storage.googleapis.com/tensorflow/keras-applications/mobilenet/mobilenet_1_0_224_tf_no_top.h5\n",
            "17225924/17225924 [==============================] - 0s 0us/step\n",
            "Found 654 images belonging to 3 classes.\n",
            "Found 81 images belonging to 3 classes.\n",
            "Epoch 1/10\n",
            "21/21 [==============================] - 159s 7s/step - loss: 0.3490 - accuracy: 0.8838 - val_loss: 7.9086 - val_accuracy: 0.3951\n",
            "Epoch 2/10\n",
            "21/21 [==============================] - 144s 7s/step - loss: 0.0287 - accuracy: 0.9924 - val_loss: 2.5106 - val_accuracy: 0.7037\n",
            "Epoch 3/10\n",
            "21/21 [==============================] - 145s 7s/step - loss: 0.0455 - accuracy: 0.9847 - val_loss: 2.7367 - val_accuracy: 0.7531\n",
            "Epoch 4/10\n",
            "21/21 [==============================] - 142s 7s/step - loss: 0.0347 - accuracy: 0.9908 - val_loss: 1.1040 - val_accuracy: 0.8519\n",
            "Epoch 5/10\n",
            "21/21 [==============================] - 144s 7s/step - loss: 0.0392 - accuracy: 0.9862 - val_loss: 0.8782 - val_accuracy: 0.8642\n",
            "Epoch 6/10\n",
            "21/21 [==============================] - 146s 7s/step - loss: 0.0369 - accuracy: 0.9924 - val_loss: 0.7968 - val_accuracy: 0.9012\n",
            "Epoch 7/10\n",
            "21/21 [==============================] - 143s 7s/step - loss: 0.0525 - accuracy: 0.9817 - val_loss: 1.5027 - val_accuracy: 0.8519\n",
            "Epoch 8/10\n",
            "21/21 [==============================] - 147s 7s/step - loss: 0.0269 - accuracy: 0.9893 - val_loss: 0.2575 - val_accuracy: 0.9630\n",
            "Epoch 9/10\n",
            "21/21 [==============================] - 150s 7s/step - loss: 0.0378 - accuracy: 0.9832 - val_loss: 0.0465 - val_accuracy: 0.9753\n",
            "Epoch 10/10\n",
            "21/21 [==============================] - 142s 7s/step - loss: 0.0467 - accuracy: 0.9862 - val_loss: 0.0880 - val_accuracy: 0.9630\n"
          ]
        },
        {
          "output_type": "stream",
          "name": "stderr",
          "text": [
            "/usr/local/lib/python3.10/dist-packages/keras/src/engine/training.py:3103: UserWarning: You are saving your model as an HDF5 file via `model.save()`. This file format is considered legacy. We recommend using instead the native Keras format, e.g. `model.save('my_model.keras')`.\n",
            "  saving_api.save_model(\n"
          ]
        }
      ]
    },
    {
      "cell_type": "code",
      "source": [
        "# Getting Confusion Matrix\n",
        "import numpy as np\n",
        "from sklearn.metrics import confusion_matrix, classification_report\n",
        "\n",
        "# Generate predictions\n",
        "predictions = model.predict(validation_generator)\n",
        "\n",
        "# Convert predictions to class labels\n",
        "predicted_labels = np.argmax(predictions, axis=1)\n",
        "\n",
        "# Get true labels\n",
        "true_labels = validation_generator.classes\n",
        "\n",
        "# Create confusion matrix\n",
        "conf_matrix = confusion_matrix(true_labels, predicted_labels)\n",
        "print(\"Confusion Matrix:\")\n",
        "print(conf_matrix)"
      ],
      "metadata": {
        "colab": {
          "base_uri": "https://localhost:8080/"
        },
        "id": "l7t49AWBxe0N",
        "outputId": "8f4f5e81-1761-4ffc-c422-378232ad6276"
      },
      "execution_count": null,
      "outputs": [
        {
          "output_type": "stream",
          "name": "stdout",
          "text": [
            "3/3 [==============================] - 4s 919ms/step\n",
            "Confusion Matrix:\n",
            "[[ 9 11  7]\n",
            " [10  8  9]\n",
            " [ 8 10  9]]\n"
          ]
        }
      ]
    },
    {
      "cell_type": "code",
      "source": [
        "#confusion_matrix table\n",
        "import numpy as np\n",
        "import seaborn as sns\n",
        "import matplotlib.pyplot as plt\n",
        "from sklearn.metrics import confusion_matrix\n",
        "from sklearn.metrics import classification_report\n",
        "\n",
        "# Assuming true_labels and predicted_labels are available\n",
        "# Example: true_labels, predicted_labels = get_true_and_predicted_labels()\n",
        "\n",
        "# Create confusion matrix\n",
        "conf_matrix = confusion_matrix(true_labels, predicted_labels)\n",
        "\n",
        "# Create a heatmap\n",
        "plt.figure(figsize=(8, 6))\n",
        "sns.heatmap(conf_matrix, annot=True, fmt='d', cmap='Blues', xticklabels=class_names, yticklabels=class_names)\n",
        "plt.xlabel('Predicted')\n",
        "plt.ylabel('True')\n",
        "plt.title('Confusion Matrix')\n",
        "plt.show()\n"
      ],
      "metadata": {
        "colab": {
          "base_uri": "https://localhost:8080/",
          "height": 564
        },
        "id": "b20j2tTNy0zT",
        "outputId": "cdac385b-25c5-44ec-d746-87619783c020"
      },
      "execution_count": null,
      "outputs": [
        {
          "output_type": "display_data",
          "data": {
            "text/plain": [
              "<Figure size 800x600 with 2 Axes>"
            ],
            "image/png": "[encoded data removed]"
          },
          "metadata": {}
        }
      ]
    },
    {
      "cell_type": "code",
      "source": [
        "from tensorflow.keras.preprocessing import image\n",
        "import numpy as np\n",
        "\n",
        "# Load the trained model\n",
        "model_path = '/content/drive/MyDrive/Black Pepper/models/model.h5'\n",
        "loaded_model = tf.keras.models.load_model(model_path)\n",
        "\n",
        "# Function to preprocess an image for prediction\n",
        "def preprocess_image(image_path):\n",
        "    img = image.load_img(image_path, target_size=(224, 224))\n",
        "    img_array = image.img_to_array(img)\n",
        "    img_array = np.expand_dims(img_array, axis=0)\n",
        "    img_array /= 255.0  # Normalize the pixel values\n",
        "    return img_array\n",
        "\n",
        "# Example: Replace 'path/to/your/test/image.jpg' with the path to your test image\n",
        "test_image_path = '/content/drive/MyDrive/Black Pepper/samples/1.png'\n",
        "preprocessed_image = preprocess_image(test_image_path)\n",
        "\n",
        "# Make prediction\n",
        "predictions = loaded_model.predict(preprocessed_image)\n",
        "predicted_class = np.argmax(predictions[0])\n",
        "\n",
        "# Display the result\n",
        "class_names = [\"healthy\", \"leaf_blight\", \"yellow_mottle\"]\n",
        "predicted_class_name = class_names[predicted_class]\n",
        "print(\"Predicted class:\", predicted_class_name)\n"
      ],
      "metadata": {
        "colab": {
          "base_uri": "https://localhost:8080/"
        },
        "id": "5lHzL1JCwgRm",
        "outputId": "37bcf109-f3b3-4e3e-875c-9a48fdc9a361"
      },
      "execution_count": null,
      "outputs": [
        {
          "output_type": "stream",
          "name": "stderr",
          "text": [
            "WARNING:tensorflow:5 out of the last 10 calls to <function Model.make_predict_function.<locals>.predict_function at 0x7cc3cf9b7910> triggered tf.function retracing. Tracing is expensive and the excessive number of tracings could be due to (1) creating @tf.function repeatedly in a loop, (2) passing tensors with different shapes, (3) passing Python objects instead of tensors. For (1), please define your @tf.function outside of the loop. For (2), @tf.function has reduce_retracing=True option that can avoid unnecessary retracing. For (3), please refer to https://www.tensorflow.org/guide/function#controlling_retracing and https://www.tensorflow.org/api_docs/python/tf/function for  more details.\n"
          ]
        },
        {
          "output_type": "stream",
          "name": "stdout",
          "text": [
            "1/1 [==============================] - 2s 2s/step\n",
            "Predicted class: leaf_blight\n"
          ]
        }
      ]
    }
  ]
}